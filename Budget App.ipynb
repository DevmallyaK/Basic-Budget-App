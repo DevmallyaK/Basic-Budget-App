{
 "cells": [
  {
   "cell_type": "code",
   "execution_count": null,
   "metadata": {},
   "outputs": [],
   "source": [
    "class Budget_of_Dev:\n",
    "    #-------------------------------------#\n",
    "    ''' All funds are under total income'''\n",
    "    #-------------------------------------#\n",
    "    def __init__(self, Total_fund, emi, room_rent, internet, electricity, food, entertainment):\n",
    "        self.Total_fund = Total_fund\n",
    "        self.emi = emi\n",
    "        self.room_rent = room_rent\n",
    "        self.internet = internet\n",
    "        self.electricity = electricity\n",
    "        self.food = food\n",
    "        self.entertainment = entertainment\n",
    "    \n",
    "    # Balance at the end of the month\n",
    "    def balance(self):\n",
    "        return self.Total_fund - (self.emi + self.room_rent + self.internet + self.electricity + self.food + self.entertainment)\n",
    "\n",
    "# Enter total income credit & expenditure from income  \n",
    "Total_fund = int(input('Enter total income : '))\n",
    "emi = int(input('Enter emi total cost : '))\n",
    "room_rent = int(input('Enter room_rent total cost : '))\n",
    "internet = int(input('Enter internet total cost : '))\n",
    "electricity = int(input('Enter electricity total cost : '))\n",
    "food = int(input('Enter food total cost : '))\n",
    "entertainment = int(input('Enter entertainment total cost : '))\n",
    "\n",
    "budgets = Budget_of_Dev(Total_fund, emi, room_rent, internet, electricity, food, entertainment)\n",
    "print(budgets.balance())"
   ]
  },
  {
   "cell_type": "code",
   "execution_count": null,
   "metadata": {},
   "outputs": [],
   "source": []
  }
 ],
 "metadata": {
  "kernelspec": {
   "display_name": "Python 3",
   "language": "python",
   "name": "python3"
  },
  "language_info": {
   "codemirror_mode": {
    "name": "ipython",
    "version": 3
   },
   "file_extension": ".py",
   "mimetype": "text/x-python",
   "name": "python",
   "nbconvert_exporter": "python",
   "pygments_lexer": "ipython3",
   "version": "3.8.5"
  }
 },
 "nbformat": 4,
 "nbformat_minor": 4
}
